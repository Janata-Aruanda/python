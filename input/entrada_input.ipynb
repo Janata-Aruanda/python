{
 "cells": [
  {
   "cell_type": "markdown",
   "id": "9b413deb",
   "metadata": {},
   "source": [
    "# Entrada de Dados em Python"
   ]
  },
  {
   "cell_type": "markdown",
   "id": "3b986a39",
   "metadata": {},
   "source": [
    "Em python, para ler dados digitados pelo usuário durante a execução do programa, utilizamos a função input() (literalmente entrada, em inglês). O exemplo abaixo ilustra o uso dessa função:"
   ]
  },
  {
   "cell_type": "code",
   "execution_count": null,
   "id": "92aaa47c",
   "metadata": {},
   "outputs": [],
   "source": [
    "# Para entrada de dados, podemos usar o input\n",
    "input('Digite sua frase:')"
   ]
  },
  {
   "cell_type": "code",
   "execution_count": null,
   "id": "cb301344",
   "metadata": {},
   "outputs": [],
   "source": [
    "# Quando querendo trabalhar com entradas de dados, sempre é bom atribuir a varável \n",
    "\n",
    "nome_a = input('Digite seu nome :') # Quando não colocamos nenhum tipo de dados antes do input, entende que será STRING \n",
    "print(nome_a)\n",
    "# nome_b = str(input('Digite seu nome :'))"
   ]
  },
  {
   "cell_type": "markdown",
   "id": "dc60ebdd",
   "metadata": {},
   "source": [
    "Anter do input, pode passar o tipo de dados que irá receber \n",
    "\n",
    "**str(input(\"Irá receber entrada com tipo texto\"))**\n",
    "\n",
    "**int(input(\"Irá receber entrada com tipo número inteiro\"))**\n",
    "\n",
    "**float(input(\"Irá receber entrada com tipo ponto flutuante\"))**\n",
    "\n",
    "**bool(input(\"Irá receber entrada com tipo verdadeiro/falso\"))**"
   ]
  },
  {
   "cell_type": "code",
   "execution_count": null,
   "id": "55cd0810",
   "metadata": {},
   "outputs": [],
   "source": [
    "# Só recebe número inteiro ex: 10\n",
    "idade = int(input(\"Digite sua idade: \"))\n",
    "print(idade)"
   ]
  },
  {
   "cell_type": "code",
   "execution_count": null,
   "id": "e919cd91",
   "metadata": {},
   "outputs": [],
   "source": [
    "# Pode receber número inteiro, mas quando for imprimir exibirar número flutuante\n",
    "altura = float(input(\"ex: 1.50 \\nDigite sua altura: \")) \n",
    "print(altura)"
   ]
  },
  {
   "cell_type": "code",
   "execution_count": null,
   "id": "5c71e9af",
   "metadata": {},
   "outputs": [],
   "source": [
    "opniao = bool(input(\"Gosta de aprender coisa nova?: \"))\n",
    "print(opniao)"
   ]
  },
  {
   "cell_type": "code",
   "execution_count": null,
   "id": "1a35a216",
   "metadata": {},
   "outputs": [],
   "source": [
    "print(f\"O {nome_a} tem {idade} anos e altura {altura}\")"
   ]
  },
  {
   "cell_type": "code",
   "execution_count": null,
   "id": "4571b83d",
   "metadata": {},
   "outputs": [],
   "source": [
    "altura = float(input(\"ex: 1.50 \\nDigite sua altura: \")) \n",
    "print(altura)"
   ]
  }
 ],
 "metadata": {
  "kernelspec": {
   "display_name": "Python 3 (ipykernel)",
   "language": "python",
   "name": "python3"
  },
  "language_info": {
   "codemirror_mode": {
    "name": "ipython",
    "version": 3
   },
   "file_extension": ".py",
   "mimetype": "text/x-python",
   "name": "python",
   "nbconvert_exporter": "python",
   "pygments_lexer": "ipython3",
   "version": "3.9.12"
  }
 },
 "nbformat": 4,
 "nbformat_minor": 5
}
