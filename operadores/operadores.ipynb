{
 "cells": [
  {
   "cell_type": "markdown",
   "id": "b8880a32",
   "metadata": {},
   "source": [
    "# Operadores no Python"
   ]
  },
  {
   "cell_type": "markdown",
   "id": "b694f516",
   "metadata": {},
   "source": [
    "Os operadores são usados na construção de expressões, as quais contém um número variado de operandos. Por exemplo, na expressão a + b, temos o operador de aritmético + e operandos são as variáveis a e b.\n",
    "\n",
    "Na linguagem Python temos a seguinte separação entre os diferentes tipos de operadores:"
   ]
  },
  {
   "cell_type": "markdown",
   "id": "392c89d4",
   "metadata": {},
   "source": [
    "- Operadores aritméticos\n",
    "- Operadores de atribuição\n",
    "- Operadores de comparação\n",
    "- Operadores lógicos\n",
    "- Operadores de identidade\n",
    "- Operadores de associação"
   ]
  },
  {
   "cell_type": "markdown",
   "id": "a08f909a",
   "metadata": {},
   "source": [
    "# Operadores aritméticos"
   ]
  },
  {
   "cell_type": "markdown",
   "id": "b635077b",
   "metadata": {},
   "source": [
    "Os operadores aritméticos são utilizados na execução de operações matemáticas, tais como a soma e a subtração, por exemplo"
   ]
  },
  {
   "cell_type": "markdown",
   "id": "457683b4",
   "metadata": {},
   "source": [
    "|Operador |\n",
    "   --------- \n",
    "      +        \n",
    "      -        \n",
    "      *        \n",
    "      /        \n",
    "     //       \n",
    "      %        \n",
    "     **       "
   ]
  },
  {
   "cell_type": "markdown",
   "id": "b5e31c3f",
   "metadata": {},
   "source": [
    "# Operador Adição + \n",
    "\n"
   ]
  },
  {
   "cell_type": "markdown",
   "id": "24ed3fb9",
   "metadata": {},
   "source": [
    "soma dois valores"
   ]
  },
  {
   "cell_type": "code",
   "execution_count": null,
   "id": "5ea98987",
   "metadata": {},
   "outputs": [],
   "source": [
    "# Realizando a operação com o valores INT\n",
    "\n",
    "num1 = 20 \n",
    "num2 = 3\n",
    "\n",
    "# Pode criar uma nova variável e realizar a operação\n",
    "soma = num1 + num2\n",
    "print(soma)\n",
    "\n",
    "# Pode também realizar a operação direto no print\n",
    "print(num1 + num2)"
   ]
  },
  {
   "cell_type": "code",
   "execution_count": null,
   "id": "03b33e07",
   "metadata": {},
   "outputs": [],
   "source": [
    "# Realizando a operação com o valores FLOAT\n",
    "\n",
    "num1 = 20.5 \n",
    "num2 = 3.96\n",
    "\n",
    "# Pode criar uma nova variável e realizar a operação\n",
    "soma = num1 + num2\n",
    "print(soma) \n",
    "\n",
    "## Pode também realizar a operação direto no print\n",
    "print(num1 + num2)"
   ]
  },
  {
   "cell_type": "markdown",
   "id": "c08cefb8",
   "metadata": {},
   "source": [
    "# Operador Subtração - "
   ]
  },
  {
   "cell_type": "markdown",
   "id": "8ab8b058",
   "metadata": {},
   "source": [
    "subtrai dois valores"
   ]
  },
  {
   "cell_type": "code",
   "execution_count": null,
   "id": "475df76a",
   "metadata": {},
   "outputs": [],
   "source": [
    "# Realizando a operação com o valores INT\n",
    "\n",
    "num1 = 2023 \n",
    "num2 = 1999\n",
    "# Pode criar uma nova variável e realizar a operação\n",
    "soma = num1 - num2\n",
    "print(soma)\n",
    "\n",
    "# Pode também realizar a operação direto no print\n",
    "print(num1 - num2)"
   ]
  },
  {
   "cell_type": "code",
   "execution_count": null,
   "id": "3acd7183",
   "metadata": {},
   "outputs": [],
   "source": [
    "# Realizando a operação com o valores FLOAT\n",
    "\n",
    "num1 = 11.5 \n",
    "num2 = 14.90\n",
    "# Pode criar uma nova variável e realizar a operação\n",
    "soma = num1 - num2\n",
    "print(soma) \n",
    "\n",
    "## Pode também realizar a operação direto no print\n",
    "print(num1 - num2)"
   ]
  },
  {
   "cell_type": "markdown",
   "id": "e40adb73",
   "metadata": {},
   "source": [
    "# Operador Multiplicação * "
   ]
  },
  {
   "cell_type": "markdown",
   "id": "c46de33c",
   "metadata": {},
   "source": [
    "multiplica dois valores"
   ]
  },
  {
   "cell_type": "code",
   "execution_count": null,
   "id": "934c3424",
   "metadata": {},
   "outputs": [],
   "source": [
    "# Realizando a operação com o valores INT\n",
    "\n",
    "num1 = 5 \n",
    "num2 = 5\n",
    "# Pode criar uma nova variável e realizar a operação\n",
    "soma = num1 * num2\n",
    "print(soma)\n",
    "\n",
    "# Pode também realizar a operação direto no print\n",
    "print(num1 * num2)"
   ]
  },
  {
   "cell_type": "code",
   "execution_count": null,
   "id": "8e7af165",
   "metadata": {},
   "outputs": [],
   "source": [
    "# Realizando a operação com o valores FLOAT\n",
    "\n",
    "num1 = 5.0 \n",
    "num2 = 5.0\n",
    "# Pode criar uma nova variável e realizar a operação\n",
    "soma = num1 * num2\n",
    "print(soma) \n",
    "\n",
    "## Pode também realizar a operação direto no print\n",
    "print(num1 * num2)"
   ]
  },
  {
   "cell_type": "markdown",
   "id": "e009cc85",
   "metadata": {},
   "source": [
    "# Operador Divisão /"
   ]
  },
  {
   "cell_type": "markdown",
   "id": "441cf2b8",
   "metadata": {},
   "source": [
    "divide dois valores (sem arredondar)"
   ]
  },
  {
   "cell_type": "code",
   "execution_count": null,
   "id": "2bdd7c91",
   "metadata": {},
   "outputs": [],
   "source": [
    "num1 = 10 \n",
    "num2 = 2\n",
    "# Pode criar uma nova variável e realizar a operação\n",
    "soma = num1 / num2\n",
    "print(soma)\n",
    "\n",
    "# Pode também realizar a operação direto no print\n",
    "print(num1 / num2)\n",
    "\n",
    "print(\"\\nQuando faz a divisão de valores, se converte para float.\")"
   ]
  },
  {
   "cell_type": "markdown",
   "id": "cc1a9d67",
   "metadata": {},
   "source": [
    "# Operador Divisão inteira //\n"
   ]
  },
  {
   "cell_type": "markdown",
   "id": "78ba2498",
   "metadata": {},
   "source": [
    "divide dois valores (arredondando para baixo)"
   ]
  },
  {
   "cell_type": "code",
   "execution_count": null,
   "id": "74a82313",
   "metadata": {},
   "outputs": [],
   "source": [
    "num1 = 10 \n",
    "num2 = 2\n",
    "# Pode criar uma nova variável e realizar a operação\n",
    "soma = num1 // num2\n",
    "print(soma)\n",
    "\n",
    "# Pode também realizar a operação direto no print\n",
    "print(num1 // num2)"
   ]
  },
  {
   "cell_type": "markdown",
   "id": "3848660a",
   "metadata": {},
   "source": [
    "# Operador Módulo %"
   ]
  },
  {
   "cell_type": "markdown",
   "id": "35784994",
   "metadata": {},
   "source": [
    "Retorna o resto da divisão entre operandos"
   ]
  },
  {
   "cell_type": "code",
   "execution_count": null,
   "id": "6cd9dfc6",
   "metadata": {},
   "outputs": [],
   "source": [
    "num1 = 5 \n",
    "num2 = 2\n",
    "# Pode criar uma nova variável e realizar a operação\n",
    "soma = num1 % num2\n",
    "print(soma)\n",
    "\n",
    "# Pode também realizar a operação direto no print\n",
    "print(num1 % num2)"
   ]
  },
  {
   "cell_type": "markdown",
   "id": "32bbc16b",
   "metadata": {},
   "source": [
    "# Operado Exponenciação **"
   ]
  },
  {
   "cell_type": "markdown",
   "id": "238ac87b",
   "metadata": {},
   "source": [
    "Retorna um número elevado a potência de outro"
   ]
  },
  {
   "cell_type": "code",
   "execution_count": null,
   "id": "ef7881ea",
   "metadata": {},
   "outputs": [],
   "source": [
    "num1 = 5 \n",
    "num2 = 2\n",
    "# Pode criar uma nova variável e realizar a operação\n",
    "soma = num1 ** num2\n",
    "print(soma)\n",
    "\n",
    "# Pode também realizar a operação direto no print\n",
    "print(num1 ** num2)"
   ]
  },
  {
   "cell_type": "markdown",
   "id": "ca22e1a2",
   "metadata": {},
   "source": [
    "# Operadores de atribuição"
   ]
  },
  {
   "cell_type": "markdown",
   "id": "49b653e9",
   "metadata": {},
   "source": [
    "Os operadores de atribuição atribuem valor a uma variável. Na Tabela temos uma lista desses operadores."
   ]
  },
  {
   "cell_type": "markdown",
   "id": "29b8799b",
   "metadata": {},
   "source": [
    "Operador  |\tExemplo\t|Equivalente a\n",
    "--------- | ------- | -----------\n",
    "=\t      |x = 1\t|x = 1\n",
    "+=\t      |x += 1\t|x = x + 1\n",
    "-=\t      |x -= 1\t|x = x - 1\n",
    "*=\t      |x *= 1\t|x = x * 1\n",
    "/=\t      |x /= 1\t|x = x / 1\n",
    "%=\t      |x %= 1\t|x = x % 1"
   ]
  },
  {
   "cell_type": "code",
   "execution_count": null,
   "id": "38a6661e",
   "metadata": {},
   "outputs": [],
   "source": [
    "numero_1 = 5 # Está recendo o valor x\n",
    "\n",
    "numero_1 += 5 \n",
    "\n",
    "print(numero_1)\n",
    "\n",
    "#Exemplo \n",
    "nu1 = 6\n",
    "nu2 = 6 + nu1\n",
    "print(nu2)"
   ]
  },
  {
   "cell_type": "code",
   "execution_count": null,
   "id": "67313169",
   "metadata": {},
   "outputs": [],
   "source": [
    "numero_1 = 5 # Está recendo o valor x\n",
    "\n",
    "numero_1 -= 1 \n",
    "\n",
    "print(numero_1)\n",
    "\n",
    "#Exemplo \n",
    "nu1 = 6 \n",
    "nu2 = nu1 - 1\n",
    "print(nu2)"
   ]
  },
  {
   "cell_type": "markdown",
   "id": "402a21ac",
   "metadata": {},
   "source": [
    "# Operadores de comparação"
   ]
  },
  {
   "cell_type": "markdown",
   "id": "5e475b36",
   "metadata": {},
   "source": [
    "       Operador |\n",
    "    ------------ \n",
    "    >(Maior que)\n",
    "    <(Menor que)\n",
    "    == (Igual a)\n",
    "    != (Diferente de)\n",
    "    >= (Maior ou igual a)\n",
    "    <= (Menor ou igual a)"
   ]
  },
  {
   "cell_type": "code",
   "execution_count": null,
   "id": "6bb93900",
   "metadata": {},
   "outputs": [],
   "source": [
    "print(\"OPERADOR DE COMPARAÇÂO, sempre irá retornar BOOLEAN\")\n",
    "\n",
    "print(\"\\n> (Maior que)\")\n",
    "numero_1 = 2\n",
    "numero_2 = 4\n",
    "print(numero_1 > numero_2)\n",
    "\n",
    "\n",
    "print(\"\\n< (Menor que)\")\n",
    "numero_1 = 2\n",
    "numero_2 = 4\n",
    "print(numero_1 < numero_2)\n",
    "\n",
    "print(\"\\n== (Igual a)\")\n",
    "numero_1 = 2\n",
    "numero_2 = 4\n",
    "print(numero_1 == numero_2)\n",
    "\n",
    "print(\"\\n!= (Diferente de)\")\n",
    "numero_1 = 2\n",
    "numero_2 = 4\n",
    "print(numero_1 != numero_2)\n",
    "\n",
    "print(\"\\n <= (Menor ou igual a)\")\n",
    "numero_1 = 2\n",
    "numero_2 = 4\n",
    "print(numero_1 <= numero_2)\n",
    "\n",
    "print(\"\\n >= (Maior ou igual a)\")\n",
    "numero_1 = 2\n",
    "numero_2 = 4\n",
    "print(numero_1 >= numero_2)"
   ]
  }
 ],
 "metadata": {
  "kernelspec": {
   "display_name": "Python 3 (ipykernel)",
   "language": "python",
   "name": "python3"
  },
  "language_info": {
   "codemirror_mode": {
    "name": "ipython",
    "version": 3
   },
   "file_extension": ".py",
   "mimetype": "text/x-python",
   "name": "python",
   "nbconvert_exporter": "python",
   "pygments_lexer": "ipython3",
   "version": "3.9.12"
  }
 },
 "nbformat": 4,
 "nbformat_minor": 5
}
