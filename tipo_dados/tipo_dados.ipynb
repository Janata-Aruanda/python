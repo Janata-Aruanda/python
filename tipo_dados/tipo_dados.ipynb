{
 "cells": [
  {
   "cell_type": "markdown",
   "id": "4713828a",
   "metadata": {},
   "source": [
    "# Tipo de dados"
   ]
  },
  {
   "cell_type": "markdown",
   "id": "e4a090c4",
   "metadata": {},
   "source": [
    "Python possui vários tipos básicos ou fundamentais: números inteiros, números de ponto flutuante, booleanos, números complexos, cadeias de caracteres, etc."
   ]
  },
  {
   "cell_type": "markdown",
   "id": "87edb2a1",
   "metadata": {},
   "source": [
    "# Números inteiros"
   ]
  },
  {
   "cell_type": "markdown",
   "id": "47f68c6c",
   "metadata": {},
   "source": [
    "O tipo inteiro é um tipo composto por caracteres numéricos (algarismos) inteiros.\n",
    "\n",
    "É um tipo usado para um número que pode ser escrito sem um componente decimal, podendo ter ou não sinal, isto é: ser positivo ou negativo."
   ]
  },
  {
   "cell_type": "code",
   "execution_count": null,
   "id": "4b12405b",
   "metadata": {},
   "outputs": [],
   "source": [
    "idade = 23 \n",
    "ano = 2023\n",
    "\n",
    "\n",
    "print(type(idade)) #Visualizando a classe \n",
    "print(type(ano))  #Visualizando a classe \n",
    "print(\"\\nAs ambas variáveis é da classe inteiro\")"
   ]
  },
  {
   "cell_type": "code",
   "execution_count": null,
   "id": "5645242c",
   "metadata": {},
   "outputs": [],
   "source": [
    "x = 20\n",
    "y = 23\n",
    "soma = x + y\n",
    "\n",
    "print(f'A soma {x} + {y} é = {soma}')\n",
    "print(type(soma))  #Visualizando a classe "
   ]
  },
  {
   "cell_type": "markdown",
   "id": "20fd96eb",
   "metadata": {},
   "source": [
    "A função type() retorna o tipo do valor passado como parâmetro."
   ]
  },
  {
   "cell_type": "markdown",
   "id": "63f08b1f",
   "metadata": {},
   "source": [
    "# Números de ponto flutuante"
   ]
  },
  {
   "cell_type": "markdown",
   "id": "c80dde3e",
   "metadata": {},
   "source": [
    "Números de ponto flutuante nada mais são que números com \"vírgula\", ou como costumamos dizer \"números quebrados\", constrastando com os números inteiros com os quais estamos mais acostumados. Vejamos alguns exemplos de expressões com números de ponto flutuante."
   ]
  },
  {
   "cell_type": "code",
   "execution_count": null,
   "id": "38a1232a",
   "metadata": {},
   "outputs": [],
   "source": [
    "# Quando for declara alguma variável em ponto flutuante, ou costumado a dizer float, usa sempre o ponto '.'  \n",
    "\n",
    "altura = 1.90\n",
    "peso = 89.66\n",
    "\n",
    "print(type(altura)) #Visualizando a classe \n",
    "print(type(peso)) #Visualizando a classe \n",
    "print(\"\\nAs ambas variáveis é da classe float\")"
   ]
  },
  {
   "cell_type": "code",
   "execution_count": null,
   "id": "b9717230",
   "metadata": {},
   "outputs": [],
   "source": [
    "resultado = altura + peso\n",
    "print(resultado) #\n",
    "print(type(resultado)) #Visualizando a classe "
   ]
  },
  {
   "cell_type": "markdown",
   "id": "c9547a82",
   "metadata": {},
   "source": [
    "# String ou cadeias de caracteres"
   ]
  },
  {
   "cell_type": "markdown",
   "id": "c8cfb696",
   "metadata": {},
   "source": [
    "Strings nada mais são do que sequências (cadeias) de caracteres. Em outras palavras, uma string é simplesmente uma sequência de zero ou mais letras juntas. Vejamos alguns exemplos."
   ]
  },
  {
   "cell_type": "code",
   "execution_count": null,
   "id": "72ebe5ac",
   "metadata": {},
   "outputs": [],
   "source": [
    "string_vazia = '' # Variável sendo atribuido com string vazia.\n",
    "uma_letra = 'a' # Variável sendo atribuido com uma letra.\n",
    "varias_letras = 'abacate' # Variável sendo atribuido com uma palavra.\n",
    "\n",
    "\n",
    "print(type(string_vazia))  #Visualizando a classe \n",
    "print(type(uma_letra))  #Visualizando a classe \n",
    "print(type(varias_letras))  #Visualizando a classe \n",
    "print(\"\\nAs ambas variáveis é da classe string\")"
   ]
  },
  {
   "cell_type": "code",
   "execution_count": null,
   "id": "0c620147",
   "metadata": {},
   "outputs": [],
   "source": [
    "v = 'var' # Variável sendo atribuido com uma palavra\n",
    "s = v # Atribuindo a variável anterior na nova\n",
    "print(v)\n",
    "print(s)"
   ]
  },
  {
   "cell_type": "markdown",
   "id": "c29ffe2e",
   "metadata": {},
   "source": [
    "\n",
    "# Booleanas"
   ]
  },
  {
   "cell_type": "code",
   "execution_count": null,
   "id": "b35487ed",
   "metadata": {},
   "outputs": [],
   "source": [
    "# Variáveis booleanas (verdadeiro/falso)\n",
    "bool_1 = True\n",
    "print(type(bool_1))\n",
    "\n",
    "bool_2 = False\n",
    "print(type(bool_2))"
   ]
  },
  {
   "cell_type": "markdown",
   "id": "b890fc8b",
   "metadata": {},
   "source": [
    "# Conversão Númerico"
   ]
  },
  {
   "cell_type": "code",
   "execution_count": null,
   "id": "995186c7",
   "metadata": {},
   "outputs": [],
   "source": [
    "numero_a = 7.5 # Variável está sendo declarado em FLOAT\n",
    "numero_b = 5 # Variável está sendo declarado em INT \n",
    "\n",
    "# Criando uma variável A está sendo atribuido um cálculo\n",
    "resultado_a = numero_a * numero_b\n",
    "\n",
    "print(resultado_a)\n",
    "print(type(resultado_a))#Visualizando a classe "
   ]
  },
  {
   "cell_type": "code",
   "execution_count": null,
   "id": "165ec38d",
   "metadata": {},
   "outputs": [],
   "source": [
    "# Criando uma variável B está sendo atribuindo um cálculo com a conversão\n",
    "resultado_b = int(numero_a * numero_b)\n",
    "\n",
    "print(resultado_b)\n",
    "print(type(resultado_b)) #Visualizando a classe "
   ]
  },
  {
   "cell_type": "markdown",
   "id": "73318543",
   "metadata": {},
   "source": [
    "# Conversão texto para númerico"
   ]
  },
  {
   "cell_type": "code",
   "execution_count": null,
   "id": "f24a8469",
   "metadata": {},
   "outputs": [],
   "source": [
    "numero_c = '20' # Variável está sendo declarado em STRING, mas está recebendo um valor INT\n",
    "numero_d = '50.50' # Variável está sendo declarado em STRING, mas está recebendo um valor FLOAT\n",
    "\n",
    "# Criando uma variável C está sendo atribuido um cálculo com a conversão\n",
    "resultado_c =  int(numero_c) + float(numero_d)\n",
    "\n",
    "\n",
    "print(resultado_c)\n",
    "print(type(resultado_c)) #Visualizando a classe "
   ]
  },
  {
   "cell_type": "code",
   "execution_count": null,
   "id": "3ac11a09",
   "metadata": {},
   "outputs": [],
   "source": [
    "#Criando uma variável D está sendo atribuido um cálculo com a conversão\n",
    "resultado_d = int(numero_c) + float(numero_d)\n",
    "resul = int(resultado_d) # criando um variável e fazendo atribuindo de conversão\n",
    "print(resul)\n",
    "print(type(resul)) #Visualizando a classe"
   ]
  },
  {
   "cell_type": "markdown",
   "id": "5ee7659b",
   "metadata": {},
   "source": [
    "# Conversão númerico para texto"
   ]
  },
  {
   "cell_type": "code",
   "execution_count": null,
   "id": "8e02609a",
   "metadata": {},
   "outputs": [],
   "source": [
    "# Converte inteiro para string\n",
    "x = 10 # Variável está sendo declarado em INT\n",
    "s = str(x) # Conversão para STRING\n",
    "\n",
    "print(f\"Antes da conversão {type(x)}\")\n",
    "print(s)\n",
    "print(type(s)) # Imprimindo type da classe depois da conversão"
   ]
  },
  {
   "cell_type": "code",
   "execution_count": null,
   "id": "d67d594c",
   "metadata": {},
   "outputs": [],
   "source": [
    "# Converte float para string\n",
    "a = 2.5 # Variável está sendo declarado em FLOAT\n",
    "b = str(a) # Conversão para STRING\n",
    "\n",
    "print(f\"Antes da conversão {type(a)}\")\n",
    "print(b)\n",
    "print(type(b)) # Imprimindo type da classe depois da conversão"
   ]
  },
  {
   "cell_type": "markdown",
   "id": "896f9e62",
   "metadata": {},
   "source": [
    "# Conversão Booleano para númerico inteiro\n"
   ]
  },
  {
   "cell_type": "code",
   "execution_count": null,
   "id": "d4e3494b",
   "metadata": {},
   "outputs": [],
   "source": [
    "verdadeiro = True\n",
    "conv_verdadeiro = int(verdadeiro)\n",
    "\n",
    "\n",
    "print(type(verdadeiro)) # Imprimindo type da classe antes da conversão\n",
    "print(conv_verdadeiro) \n",
    "print(type(conv_verdadeiro)) # Imprimindo type da classe depois da conversão"
   ]
  },
  {
   "cell_type": "code",
   "execution_count": null,
   "id": "ab992320",
   "metadata": {},
   "outputs": [],
   "source": [
    "verdadeiro = False\n",
    "conv_false = int(verdadeiro)\n",
    "\n",
    "\n",
    "print(type(verdadeiro)) # Imprimindo type da classe antes da conversão\n",
    "print(conv_false) \n",
    "print(type(conv_false)) # Imprimindo type da classe depois da conversão"
   ]
  },
  {
   "cell_type": "code",
   "execution_count": null,
   "id": "68d3ba7f",
   "metadata": {},
   "outputs": [],
   "source": [
    "print(f'''Quando convertemos classe BOOLEANO para INT\\n\n",
    "verdadeiro = {conv_verdadeiro}\\nfalso = {conv_false}''')"
   ]
  },
  {
   "cell_type": "code",
   "execution_count": null,
   "id": "ae767586",
   "metadata": {},
   "outputs": [],
   "source": []
  }
 ],
 "metadata": {
  "kernelspec": {
   "display_name": "Python 3 (ipykernel)",
   "language": "python",
   "name": "python3"
  },
  "language_info": {
   "codemirror_mode": {
    "name": "ipython",
    "version": 3
   },
   "file_extension": ".py",
   "mimetype": "text/x-python",
   "name": "python",
   "nbconvert_exporter": "python",
   "pygments_lexer": "ipython3",
   "version": "3.9.12"
  }
 },
 "nbformat": 4,
 "nbformat_minor": 5
}
