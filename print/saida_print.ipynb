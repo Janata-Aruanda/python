{
 "cells": [
  {
   "cell_type": "markdown",
   "id": "d7705486",
   "metadata": {},
   "source": [
    "# Função Print"
   ]
  },
  {
   "cell_type": "markdown",
   "id": "4bb94d93",
   "metadata": {},
   "source": [
    "# O que ela faz?"
   ]
  },
  {
   "cell_type": "markdown",
   "id": "ef97798d",
   "metadata": {},
   "source": [
    "É imprimir algo no console (tela), pode imprimir um texto, um numero, uma List e etc. Mas para o conteúdo desejado ser impresso, ele deve ser passado como argumento dentro da função.\n",
    "\n",
    "Mais informações sobre o a função print, segue o link: https://www.notion.so/lupadata/A-fun-o-Print-3dd83857c63e4498b9bbdc096b09ceb2\n"
   ]
  },
  {
   "cell_type": "code",
   "execution_count": null,
   "id": "2acba9a5",
   "metadata": {},
   "outputs": [],
   "source": [
    "print(\"--------- Bem-vindo a Prática ---------\")"
   ]
  },
  {
   "cell_type": "code",
   "execution_count": null,
   "id": "d41341f9",
   "metadata": {},
   "outputs": [],
   "source": [
    "print(\"Lupa \", \" Data\", sep='-----')"
   ]
  },
  {
   "cell_type": "code",
   "execution_count": null,
   "id": "be6a3bf4",
   "metadata": {},
   "outputs": [],
   "source": [
    "print(\"Bootcamp Lupa Data\")"
   ]
  },
  {
   "cell_type": "code",
   "execution_count": null,
   "id": "eb7274e9",
   "metadata": {},
   "outputs": [],
   "source": [
    "# Pode usar o \\n para pular linha \n",
    "print(\"Bootcamp\\nLupa Data\")"
   ]
  },
  {
   "cell_type": "markdown",
   "id": "ec37c0fc",
   "metadata": {},
   "source": [
    "# Trabalhando valores no print"
   ]
  },
  {
   "cell_type": "markdown",
   "id": "bf205b67",
   "metadata": {},
   "source": [
    "Informação básico para compreender nessa ativiade.\n",
    "\n",
    "Quando passamos aspas simples **' '** ou **\" \"** duplo indica que o valor é String\n",
    "\n",
    "Quando passamos valor inteiro indica que é Int \n",
    "\n",
    "**String -> formato de texto**\n",
    "\n",
    "**Int -> formato númerico inteiro**"
   ]
  },
  {
   "cell_type": "code",
   "execution_count": null,
   "id": "ebc41e70",
   "metadata": {},
   "outputs": [],
   "source": [
    "nome = \"coloque seu nome para teste\"\n",
    "\n",
    "# valor está em inteiro\n",
    "idade = 23\n",
    "\n",
    "# f antes do texto indica que vai passar algum valor, dentro {} chaves para passar a variável desejado.\n",
    "print(f\"O {nome} tem {idade} anos!\")"
   ]
  },
  {
   "cell_type": "code",
   "execution_count": null,
   "id": "fe701de0",
   "metadata": {},
   "outputs": [],
   "source": [
    "nome = \"coloque seu nome para teste\"\n",
    "\n",
    "# valor está em string \n",
    "idade = \"23\" # coloca sua idade para teste\n",
    "\n",
    "\n",
    "# Dentro do print podemos passar {} chave para indica que será passado alguma variável desejado.\n",
    "# .format() passamos as variável\n",
    "# Tem uma conversão dentro do print, o valor está em string e convertemos para int \n",
    "print(\"O {} tem {} anos!\".format(nome, int(idade)))"
   ]
  },
  {
   "cell_type": "markdown",
   "id": "50429940",
   "metadata": {},
   "source": [
    "# Concatenação de strings"
   ]
  },
  {
   "cell_type": "code",
   "execution_count": null,
   "id": "b13a27a7",
   "metadata": {},
   "outputs": [],
   "source": [
    "nome = \"coloque seu nome\"\n",
    "cargo = \"coloque seu cargo\"\n",
    "periodo = 1 # estamos passando valor inteiro\n",
    "\n",
    "# Vamos converter o valor inteiro para string\n",
    "\n",
    "print(\"Meu nome é \" + nome + \", meu cargo aqui na lupa é \" + cargo + \", estou à \" + str(periodo) + \" meses aqui!\" )"
   ]
  }
 ],
 "metadata": {
  "kernelspec": {
   "display_name": "Python 3 (ipykernel)",
   "language": "python",
   "name": "python3"
  },
  "language_info": {
   "codemirror_mode": {
    "name": "ipython",
    "version": 3
   },
   "file_extension": ".py",
   "mimetype": "text/x-python",
   "name": "python",
   "nbconvert_exporter": "python",
   "pygments_lexer": "ipython3",
   "version": "3.9.12"
  }
 },
 "nbformat": 4,
 "nbformat_minor": 5
}
